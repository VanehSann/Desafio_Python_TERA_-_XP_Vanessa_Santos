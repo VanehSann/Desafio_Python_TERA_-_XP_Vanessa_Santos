{
  "nbformat": 4,
  "nbformat_minor": 0,
  "metadata": {
    "colab": {
      "name": "Desafio Python - TERA + XP - Vanessa Santos ",
      "provenance": [],
      "collapsed_sections": [],
      "include_colab_link": true
    },
    "kernelspec": {
      "name": "python3",
      "display_name": "Python 3"
    },
    "language_info": {
      "name": "python"
    }
  },
  "cells": [
    {
      "cell_type": "markdown",
      "metadata": {
        "id": "view-in-github",
        "colab_type": "text"
      },
      "source": [
        "<a href=\"https://colab.research.google.com/gist/VanehSann/f1c2588b257a760725e5a967d7fa2222/desafio-python-tera-xp-vanessa-santos.ipynb\" target=\"_parent\"><img src=\"https://colab.research.google.com/assets/colab-badge.svg\" alt=\"Open In Colab\"/></a>"
      ]
    },
    {
      "cell_type": "markdown",
      "metadata": {
        "id": "VLHfFRbPVEAh"
      },
      "source": [
        "# Desafio Python - TERA + XP\n",
        "\n",
        "Olá! Que bom que você veio!<br>\n",
        "**INSTRUÇÕES**\n",
        "- Leia com atenção os enunciados\n",
        "- Se estiver com dúvida veja se as dicas que colocamos podem te ajudar\n",
        "- Se continuar com dúvida não tenha receio de reassistir a aula ou procurar no Google (Ex: `Como selecionar o primeiro elemento de uma lista em Python`)\n",
        "- **Não** coloque apenas o resultado. (Ex: `cubo=512` ou `primeiro_elemento='Arroz'`). Queremos ver a sua resolução!"
      ]
    },
    {
      "cell_type": "markdown",
      "metadata": {
        "id": "_UrFO1rEVR1E"
      },
      "source": [
        "\n",
        "### EXEMPLO) Considere que a aresta deste cubo tem 8cm. Calcule o volume total dessa peça. Guarde o resultado na variável `cubo`.\n",
        "\n",
        "![image](https://upload.wikimedia.org/wikipedia/commons/thumb/7/78/Hexahedron.jpg/280px-Hexahedron.jpg)\n",
        "\n",
        "\n",
        "Dica: Volume de um cubo é sua aresta elevada a terceira potência."
      ]
    },
    {
      "cell_type": "code",
      "metadata": {
        "id": "dAHAPGZRU5Qs",
        "colab": {
          "base_uri": "https://localhost:8080/"
        },
        "outputId": "86ff7d9f-775c-44a1-ab86-9c06fa440cbb"
      },
      "source": [
        "#Coloque sua resposta aqui\n",
        "cubo = 8**3\n",
        "cubo"
      ],
      "execution_count": null,
      "outputs": [
        {
          "output_type": "execute_result",
          "data": {
            "text/plain": [
              "512"
            ]
          },
          "metadata": {},
          "execution_count": 1
        }
      ]
    },
    {
      "cell_type": "markdown",
      "metadata": {
        "id": "EftNIMYlW0xz"
      },
      "source": [
        "\n",
        "### 1) Considere que o lado `a` deste retângulo tem 5cm e o lado `b`tem 8cm. Calcule a área total dessa peça. Guarde o resultado na variável `retangulo`.\n",
        "\n",
        "![image](https://upload.wikimedia.org/wikipedia/commons/3/3a/Rectangle.png)\n",
        "\n",
        "\n",
        "**Dica:** A área do retângulo é = `a * b`\n",
        "\n"
      ]
    },
    {
      "cell_type": "code",
      "metadata": {
        "id": "fpjmqw2nXm6C",
        "colab": {
          "base_uri": "https://localhost:8080/"
        },
        "outputId": "5c6d4ccf-9cc5-4a23-fb25-62ab7ea7b88d"
      },
      "source": [
        "#Coloque sua resposta aqui\n",
        "\n",
        "retangulo = 5*8\n",
        "retangulo"
      ],
      "execution_count": null,
      "outputs": [
        {
          "output_type": "execute_result",
          "data": {
            "text/plain": [
              "40"
            ]
          },
          "metadata": {},
          "execution_count": 2
        }
      ]
    },
    {
      "cell_type": "markdown",
      "metadata": {
        "id": "9N4kTvJwXuYD"
      },
      "source": [
        "## Lista de compras\n",
        "Abaixo você encontrará a lista de compras que trabalharemos nos próximos exercícios.\n",
        "\n",
        "**Rode a célula contento a lista `lista_compras` antes de continuar**\n",
        "\n",
        "### Faça os exercícios de **2** a **5** com essa lista."
      ]
    },
    {
      "cell_type": "code",
      "metadata": {
        "id": "MMqmuyTqVfB5"
      },
      "source": [
        "#Rode essa célula\n",
        "\n",
        "lista_compras = ['Arroz', 'Feijão', 'Óleo', 'Sal', 'Açúcar','Café', 'Macarrão',\n",
        "                'Milho', 'Farinha de trigo','Leite', 'Manteiga', 'Ovos']"
      ],
      "execution_count": null,
      "outputs": []
    },
    {
      "cell_type": "markdown",
      "metadata": {
        "id": "eQiH-aHdYY9n"
      },
      "source": [
        "### 2) Guarde na variável `quinto_elemento` o quinto elemento da lista `lista_compras`\n",
        "\n",
        "**Dica:** Lembre-se. que o Python começa a contar à partir do zero"
      ]
    },
    {
      "cell_type": "code",
      "metadata": {
        "id": "VxePnqKhWUpY",
        "colab": {
          "base_uri": "https://localhost:8080/",
          "height": 35
        },
        "outputId": "a18db41c-b11b-4090-d4d3-f841c2bbc91c"
      },
      "source": [
        "#Coloque sua resposta aqui\n",
        "quinto_elemento = 'Açúcar'\n",
        "quinto_elemento\n"
      ],
      "execution_count": null,
      "outputs": [
        {
          "output_type": "execute_result",
          "data": {
            "application/vnd.google.colaboratory.intrinsic+json": {
              "type": "string"
            },
            "text/plain": [
              "'Açúcar'"
            ]
          },
          "metadata": {},
          "execution_count": 35
        }
      ]
    },
    {
      "cell_type": "markdown",
      "metadata": {
        "id": "aPyWPEosYx92"
      },
      "source": [
        "### 3) Guarde na variável `primeiros_itens` uma lista com os 6 primeiros itens da lista."
      ]
    },
    {
      "cell_type": "code",
      "metadata": {
        "id": "1hbvTd2jZB-H",
        "colab": {
          "base_uri": "https://localhost:8080/"
        },
        "outputId": "c9973eb1-728c-46be-8ee3-8c4a0cceb072"
      },
      "source": [
        "#Coloque sua resposta aqui\n",
        "primeiros_itens = ['Arroz', 'Feijão', 'Óleo', 'Sal', 'Açúcar','Café']\n",
        "primeiros_itens\n"
      ],
      "execution_count": null,
      "outputs": [
        {
          "output_type": "execute_result",
          "data": {
            "text/plain": [
              "['Arroz', 'Feijão', 'Óleo', 'Sal', 'Açúcar', 'Café']"
            ]
          },
          "metadata": {},
          "execution_count": 6
        }
      ]
    },
    {
      "cell_type": "markdown",
      "metadata": {
        "id": "_R7FpM-ebzKr"
      },
      "source": [
        "### 4) Insira na lista já existente `lista_compras` o item: `'Batata'`"
      ]
    },
    {
      "cell_type": "code",
      "metadata": {
        "id": "JagsapKMbyEJ",
        "colab": {
          "base_uri": "https://localhost:8080/"
        },
        "outputId": "b43b9880-84bf-49f3-81ee-cfd2973d924f"
      },
      "source": [
        "#Coloque sua resposta aqui\n",
        "lista_compras.append('batata')\n",
        "lista_compras\n"
      ],
      "execution_count": null,
      "outputs": [
        {
          "output_type": "execute_result",
          "data": {
            "text/plain": [
              "['Arroz',\n",
              " 'Feijão',\n",
              " 'Óleo',\n",
              " 'Sal',\n",
              " 'Açúcar',\n",
              " 'Café',\n",
              " 'Macarrão',\n",
              " 'Milho',\n",
              " 'Farinha de trigo',\n",
              " 'Leite',\n",
              " 'Manteiga',\n",
              " 'Ovos',\n",
              " 'batata']"
            ]
          },
          "metadata": {},
          "execution_count": 7
        }
      ]
    },
    {
      "cell_type": "markdown",
      "metadata": {
        "id": "wFrIAHX2ed6u"
      },
      "source": [
        "### 5) Guarde na variável `quantidade_compras` a quantidade de elementos da lista `lista_compras`\n",
        "\n",
        "**Dica:** você pode utilizar a função `len()`"
      ]
    },
    {
      "cell_type": "code",
      "metadata": {
        "id": "0Xeg8iebedZl",
        "colab": {
          "base_uri": "https://localhost:8080/"
        },
        "outputId": "d7a6ca7d-94f9-40be-fa82-7a164e65a2b1"
      },
      "source": [
        "#Coloque sua resposta aqui\n",
        "quantidade_compras = len(lista_compras)\n",
        "quantidade_compras\n",
        "\n"
      ],
      "execution_count": null,
      "outputs": [
        {
          "output_type": "execute_result",
          "data": {
            "text/plain": [
              "13"
            ]
          },
          "metadata": {},
          "execution_count": 19
        }
      ]
    },
    {
      "cell_type": "markdown",
      "metadata": {
        "id": "4D7_UovOcNf_"
      },
      "source": [
        "## Lista de preços\n",
        "Abaixo você encontrará uma lista de preços que trabalharemos nos próximos exercícios.\n",
        "\n",
        "**Rode a célula contento a lista `lista_precos` antes de continuar**\n",
        "\n",
        "### Faça os exercícios de **6** e **7** com essa lista."
      ]
    },
    {
      "cell_type": "code",
      "metadata": {
        "id": "Ot-96E3idKfq"
      },
      "source": [
        "#Rode essa célula\n",
        "\n",
        "lista_precos = [30.5, 20.2, 19.99, 9.99, 192.10, 81,10, 42.42]"
      ],
      "execution_count": null,
      "outputs": []
    },
    {
      "cell_type": "markdown",
      "metadata": {
        "id": "Dvz6sNYPeJXy"
      },
      "source": [
        "### 6) Guarde na variável `total` a soma total da lista `lista_precos`"
      ]
    },
    {
      "cell_type": "code",
      "metadata": {
        "id": "EIRuRIKtd6bp",
        "colab": {
          "base_uri": "https://localhost:8080/"
        },
        "outputId": "e5d46a75-671b-4590-8c16-157724a1da66"
      },
      "source": [
        "#Coloque sua resposta aqui\n",
        "total = sum(lista_precos)\n",
        "total\n",
        "\n"
      ],
      "execution_count": null,
      "outputs": [
        {
          "output_type": "execute_result",
          "data": {
            "text/plain": [
              "406.2"
            ]
          },
          "metadata": {},
          "execution_count": 18
        }
      ]
    },
    {
      "cell_type": "markdown",
      "metadata": {
        "id": "0kdbvC4shDpE"
      },
      "source": [
        "### 7) Guarde na variável `precos_dobro` uma nova lista que seja a lista `lista_precos` com seus elementos multiplicados por 2.\n",
        "\n",
        "**Dica:** utilize **list comprehension**"
      ]
    },
    {
      "cell_type": "code",
      "metadata": {
        "id": "B_YfYTQshVD4",
        "colab": {
          "base_uri": "https://localhost:8080/"
        },
        "outputId": "28a5d998-ff1f-49d8-d5ce-0f10c900f307"
      },
      "source": [
        "#Coloque sua resposta aqui\n",
        "for numero in lista_precos:\n",
        "    precos_dobro = (numero*2)\n",
        "    print(precos_dobro)"
      ],
      "execution_count": null,
      "outputs": [
        {
          "output_type": "stream",
          "name": "stdout",
          "text": [
            "61.0\n",
            "40.4\n",
            "39.98\n",
            "19.98\n",
            "384.2\n",
            "162\n",
            "20\n",
            "84.84\n"
          ]
        }
      ]
    },
    {
      "cell_type": "markdown",
      "metadata": {
        "id": "dnt6wgchhqd3"
      },
      "source": [
        "### Dicionários\n",
        "\n",
        "A **Escala de Scoville** é usda para medir o grau de ardência das pimentas. Preparamos um dicionário com o nome da pimenta e sua respectiva ardência em unidades Scoville.\n",
        "\n",
        "**Rode a célula contento o dicionário de `pimentas` antes de continuar**\n",
        "\n",
        "### Faça os exercícios de **8** e **9** seguintes operações com o dicionário `pimentas`"
      ]
    },
    {
      "cell_type": "code",
      "metadata": {
        "id": "IAYEqNC3hqPP"
      },
      "source": [
        "#Rode essa célula\n",
        "pimentas = {\n",
        "    'Pimentão': 0,\n",
        "    'Pepperoncini': 300,\n",
        "    'Molho Tabasco Jalapenho': 700,\n",
        "    'Pimenta Anaheim': 750  ,\n",
        "    'Pimenta Poblano': 1250,\n",
        "    'Pimenta Rocotillo': 2000,\n",
        "    'Molho Tabasco': 3750,\n",
        "    'Pimenta Jalapeño': 5250,\n",
        "    'Wax Pepper': 7500,\n",
        "    'Molho Tabasco Habanero': 7500,\n",
        "    'Pimenta Dedo de Moça': 10000,\n",
        "    'Pimenta Serrano': 16500,\n",
        "    'Pimenta Malagueta': 75000,\n",
        "    'Jamaican Hot Pepper': 150000,\n",
        "    'Habanero Chili': 225000,\n",
        "    'Pimenta de Chili Scotch Bonnet': 225000,\n",
        "    'Habanero Chili Red Savina': 463500,\n",
        "    'Dorset Naga': 923000,\n",
        "    'Pimenta Naga Bhut Jolokia': 927500,\n",
        "    'Pimenta Infinity Chilli': 1000000,\n",
        "    'Pimenta Naga Viper': 1300000,\n",
        "    'Pimenta Trinidad Scorpion Butch T': 1604615,\n",
        "    'Vicnic-1313': 1820000,\n",
        "    'Carolina Reaper': 1884650\n",
        "}"
      ],
      "execution_count": null,
      "outputs": []
    },
    {
      "cell_type": "markdown",
      "metadata": {
        "id": "Io-cd2kFh0jA"
      },
      "source": [
        "### 8) Guarde na variável `quente` o valor de ardência da pimenta `Carolina Reaper`"
      ]
    },
    {
      "cell_type": "code",
      "metadata": {
        "id": "oEikopPRhwS5",
        "colab": {
          "base_uri": "https://localhost:8080/"
        },
        "outputId": "64b94d88-c2c9-4721-a7e5-ff74e9c2c32c"
      },
      "source": [
        "quente = pimentas['Carolina Reaper']\n",
        "quente"
      ],
      "execution_count": null,
      "outputs": [
        {
          "output_type": "execute_result",
          "data": {
            "text/plain": [
              "1884650"
            ]
          },
          "metadata": {},
          "execution_count": 77
        }
      ]
    },
    {
      "cell_type": "markdown",
      "metadata": {
        "id": "GAPvS9H7ivat"
      },
      "source": [
        "### 9) Insira no dicionário `pimentas` este novo par: `'Pimenta Caiena': 40000`\n",
        "**Atenção** não recrie o dicionário, apenas adicione o elemento no dicionário existente"
      ]
    },
    {
      "cell_type": "code",
      "metadata": {
        "id": "TfoliRNWi3ca",
        "colab": {
          "base_uri": "https://localhost:8080/"
        },
        "outputId": "32307a0c-b6ed-4680-b459-bd110db4d74f"
      },
      "source": [
        "#Coloque sua resposta aqui\n",
        "#pimentas['teste'] = 3 \n",
        "pimentas['Pimentas Caiena'] = 40000\n",
        "pimentas"
      ],
      "execution_count": null,
      "outputs": [
        {
          "output_type": "execute_result",
          "data": {
            "text/plain": [
              "{'Carolina Reaper': 1884650,\n",
              " 'Dorset Naga': 923000,\n",
              " 'Habanero Chili': 225000,\n",
              " 'Habanero Chili Red Savina': 463500,\n",
              " 'Jamaican Hot Pepper': 150000,\n",
              " 'Molho Tabasco': 3750,\n",
              " 'Molho Tabasco Habanero': 7500,\n",
              " 'Molho Tabasco Jalapenho': 700,\n",
              " 'Pepperoncini': 300,\n",
              " 'Pimenta Anaheim': 750,\n",
              " 'Pimenta Dedo de Moça': 10000,\n",
              " 'Pimenta Infinity Chilli': 1000000,\n",
              " 'Pimenta Jalapeño': 5250,\n",
              " 'Pimenta Malagueta': 75000,\n",
              " 'Pimenta Naga Bhut Jolokia': 927500,\n",
              " 'Pimenta Naga Viper': 1300000,\n",
              " 'Pimenta Poblano': 1250,\n",
              " 'Pimenta Rocotillo': 2000,\n",
              " 'Pimenta Serrano': 16500,\n",
              " 'Pimenta Trinidad Scorpion Butch T': 1604615,\n",
              " 'Pimenta de Chili Scotch Bonnet': 225000,\n",
              " 'Pimentas Caiena': 40000,\n",
              " 'Pimentão': 0,\n",
              " 'Vicnic-1313': 1820000,\n",
              " 'Wax Pepper': 7500,\n",
              " 'x': 3}"
            ]
          },
          "metadata": {},
          "execution_count": 75
        }
      ]
    },
    {
      "cell_type": "markdown",
      "metadata": {
        "id": "bXI8ey3GxGDR"
      },
      "source": [
        "## Funções e condicionais\n",
        "\n",
        "### 10) Queremos selecionar palavras acima de 10 caracteres. Vamos criar uma função `calcular_palavra` que recebe uma palavra como parâmetro e tenha o retorno de acordo com a tabela abaixo\n",
        "\n",
        "| Tamanho da palavra (em caracteres)  | Retorno       |\n",
        "|-----------------|----------------|\n",
        "| Abaixo de 10  | Tente uma palavra maior |\n",
        "| Entre 11 e 20 | Boa palavra    |\n",
        "| Acima de 21   | Uau!|\n",
        "\n",
        "**Dica 1:** Neste exercício você precisa usar tanto `def` para construir função quanto o `if` para fazer a lógica condicional. (Ex.: `def calcular_palavra(palavra):`)\n",
        "\n",
        "**Dica 2:** Se a função que você constuiu está correta você terá o seguinte resultado para o código abaixo:<br>\n",
        "`calcular_palavra('eu')`<br>\n",
        "-- **`'Tente uma palavra maior'`**<br>\n",
        "\n",
        "`calcular_palavra('documentação')`<br>\n",
        "-- **`'Boa palavra'`**<br>\n",
        "\n",
        "**Dica 3:** Você pode usar a função `len()` para calcular o tamanho de uma palavra, Ex.:<br>\n",
        "`len('Python')`<br>\n",
        "-- **6** "
      ]
    },
    {
      "cell_type": "code",
      "metadata": {
        "id": "f4ZPwraEi1Xj"
      },
      "source": [
        "#Coloque sua resposta aqui\n",
        "\n",
        "def calcular_palavra(palavra):\n",
        "    if len(palavra) < 10 :\n",
        "        print(\"Tente uma palavra maior\")\n",
        "    elif len(palavra)>= 11 <= 20:\n",
        "        print(\"Boa palavra\")\n",
        "    elif len(palavra) > 21:\n",
        "        print(\"Uau!\")"
      ],
      "execution_count": null,
      "outputs": []
    },
    {
      "cell_type": "markdown",
      "metadata": {
        "id": "9dFl11id2sEY"
      },
      "source": [
        "### Com base na sua função faça os exercícios de **11** a **13**:\n",
        "\n",
        "### 11) Guarde na variável `palavra1` o retorno da função `calcular_palavra` para a palavra **educação**:"
      ]
    },
    {
      "cell_type": "code",
      "metadata": {
        "id": "9MvWmNDb2sYe",
        "colab": {
          "base_uri": "https://localhost:8080/"
        },
        "outputId": "890f0127-afe9-4aec-f1dc-1d8ec6229ec6"
      },
      "source": [
        "#Coloque sua resposta aqui\n",
        "palavra1 = calcular_palavra('educação')"
      ],
      "execution_count": null,
      "outputs": [
        {
          "output_type": "stream",
          "name": "stdout",
          "text": [
            "Tente uma palavra maior\n"
          ]
        }
      ]
    },
    {
      "cell_type": "markdown",
      "metadata": {
        "id": "r4DRPtAu4WOO"
      },
      "source": [
        "### 12) Guarde na variável `palavra2` o retorno da função `calcular_palavra` para a palavra **chave**:"
      ]
    },
    {
      "cell_type": "code",
      "metadata": {
        "id": "-GJuIN-z4hFW",
        "colab": {
          "base_uri": "https://localhost:8080/"
        },
        "outputId": "12a7e2b7-5525-41a9-dc43-788ad04a6b5a"
      },
      "source": [
        "#Coloque sua resposta aqui\n",
        "palavra2 = calcular_palavra('chave')"
      ],
      "execution_count": null,
      "outputs": [
        {
          "output_type": "stream",
          "name": "stdout",
          "text": [
            "Tente uma palavra maior\n"
          ]
        }
      ]
    },
    {
      "cell_type": "markdown",
      "metadata": {
        "id": "oKT3RvQP4hvI"
      },
      "source": [
        "### 13) Guarde na variável `palavra3` o retorno da função `calcular_palavra` para a palavra **inconstitucionalidades**:"
      ]
    },
    {
      "cell_type": "code",
      "metadata": {
        "id": "ZTnYO0iw4uB2",
        "colab": {
          "base_uri": "https://localhost:8080/"
        },
        "outputId": "27073ac4-84e7-4d93-d0f0-f2fa5934233f"
      },
      "source": [
        "#Coloque sua resposta aqui\n",
        "palavra3 = calcular_palavra('inconstitucionalidades')"
      ],
      "execution_count": null,
      "outputs": [
        {
          "output_type": "stream",
          "name": "stdout",
          "text": [
            "Boa palavra\n"
          ]
        }
      ]
    },
    {
      "cell_type": "markdown",
      "metadata": {
        "id": "21MgEzPL40tO"
      },
      "source": [
        "## Pandas\n",
        "#### Faça o download do `.csv` abaixo e faça a leitura dele no `pandas` guarde-a na variável `gorjetas`\n",
        "\n",
        "[Arquivo para download](https://drive.google.com/file/d/18f43p3FPmzRqN-I5S03U5pn6wdburrZQ/view?usp=sharing)\n",
        "\n",
        "**Dica 1:** Não se esqueça de importar a biblioteca pandas<br>\n",
        "**Dica 2:** Leia o material da aula de pandas para aprender como importar um arquivo para ser usado no Google Colab"
      ]
    },
    {
      "cell_type": "markdown",
      "metadata": {
        "id": "SdtI8xLv5Upe"
      },
      "source": [
        "### Faça os exercícios de **14** a **16** com o DataDrame `gorjetas`\n",
        "\n",
        "### 14) Guarde na variável `media_contas` o valor da média da colula **total**"
      ]
    },
    {
      "cell_type": "code",
      "metadata": {
        "id": "UOYsZR1l44ex",
        "colab": {
          "base_uri": "https://localhost:8080/"
        },
        "outputId": "50387e0a-fba5-4734-e58e-1c1de6bac630"
      },
      "source": [
        "#Coloque sua resposta aqui\n",
        "import pandas as pd\n",
        "\n",
        "df = pd.read_csv('gorjeta.csv')\n",
        "#print(df)\n",
        "#print(type(df))\n",
        "media_contas = df['total'].mean()\n",
        "media_contas\n"
      ],
      "execution_count": 132,
      "outputs": [
        {
          "output_type": "execute_result",
          "data": {
            "text/plain": [
              "19.785942622950824"
            ]
          },
          "metadata": {},
          "execution_count": 132
        }
      ]
    },
    {
      "cell_type": "markdown",
      "metadata": {
        "id": "mYzQb1mw5ch8"
      },
      "source": [
        "### 15) Guarde na variável `max_tamanho` o maior valor da colula **tamanho**\n"
      ]
    },
    {
      "cell_type": "code",
      "metadata": {
        "id": "T5JF72aW5XD0",
        "colab": {
          "base_uri": "https://localhost:8080/"
        },
        "outputId": "fa09ee18-3533-4764-a019-a1483010089d"
      },
      "source": [
        "#Coloque sua resposta aqui\n",
        "max_tamanho = df['tamanho'].max()\n",
        "max_tamanho\n"
      ],
      "execution_count": 134,
      "outputs": [
        {
          "output_type": "execute_result",
          "data": {
            "text/plain": [
              "6"
            ]
          },
          "metadata": {},
          "execution_count": 134
        }
      ]
    },
    {
      "cell_type": "markdown",
      "metadata": {
        "id": "tS9pDw8m5hm8"
      },
      "source": [
        "### 16) Guarde na variável `min_gorjeta` o menor valor da colula **gorjeta**"
      ]
    },
    {
      "cell_type": "code",
      "metadata": {
        "id": "YwBWUNKw5iTZ",
        "colab": {
          "base_uri": "https://localhost:8080/"
        },
        "outputId": "db4e35a0-2734-4316-9993-a4899f68de4a"
      },
      "source": [
        "#Coloque sua resposta aqui\n",
        "min_gorjeta = df['gorjeta'].min()\n",
        "min_gorjeta\n"
      ],
      "execution_count": 135,
      "outputs": [
        {
          "output_type": "execute_result",
          "data": {
            "text/plain": [
              "1.0"
            ]
          },
          "metadata": {},
          "execution_count": 135
        }
      ]
    },
    {
      "cell_type": "markdown",
      "metadata": {
        "id": "UxqBG_il5tip"
      },
      "source": [
        "## Debugging\n",
        "### 17) Encontre e arrume o erro do código abaixo:"
      ]
    },
    {
      "cell_type": "code",
      "metadata": {
        "colab": {
          "base_uri": "https://localhost:8080/"
        },
        "id": "e5LjSxJa5wfU",
        "outputId": "f9a469c9-ed03-4bdd-9c57-965df335a4c7"
      },
      "source": [
        "idades = {\n",
        "    'Michael Scott': 43,\n",
        "    'Pam Beesly': 24,\n",
        "    'Jim Halpert': 25\n",
        "}\n",
        "\n",
        "michael = f'Michael Scott tem {idades[\"Michael Scott\"]} anos de idade.'\n",
        "print(michael)"
      ],
      "execution_count": null,
      "outputs": [
        {
          "output_type": "stream",
          "name": "stdout",
          "text": [
            "Michael Scott tem 43 anos de idade.\n"
          ]
        }
      ]
    },
    {
      "cell_type": "code",
      "metadata": {
        "id": "2CRGNPfZ54MS"
      },
      "source": [
        ""
      ],
      "execution_count": 135,
      "outputs": []
    }
  ]
}